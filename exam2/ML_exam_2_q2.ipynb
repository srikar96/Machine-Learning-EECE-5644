{
  "nbformat": 4,
  "nbformat_minor": 0,
  "metadata": {
    "colab": {
      "name": "ML_Exam2.ipynb",
      "provenance": [],
      "collapsed_sections": [
        "UjGXgTC1sKwG"
      ]
    },
    "kernelspec": {
      "name": "python3",
      "display_name": "Python 3"
    }
  },
  "cells": [
    {
      "cell_type": "code",
      "metadata": {
        "id": "lTASqxdGSTro",
        "colab_type": "code",
        "colab": {}
      },
      "source": [
        "import numpy as np\n",
        "import pandas as pd\n",
        "import matplotlib.pyplot as plt\n",
        "from mpl_toolkits.mplot3d import Axes3D\n",
        "import matplotlib.animation\n",
        "import pandas as pd\n",
        "import tensorflow as tf\n",
        "from sklearn.datasets import make_spd_matrix\n",
        "from sklearn.model_selection import cross_val_score\n",
        "from keras.wrappers.scikit_learn import KerasClassifier\n",
        "%matplotlib inline"
      ],
      "execution_count": 0,
      "outputs": []
    },
    {
      "cell_type": "markdown",
      "metadata": {
        "id": "N2spQTpuTcF7",
        "colab_type": "text"
      },
      "source": [
        "####Answer 2"
      ]
    },
    {
      "cell_type": "code",
      "metadata": {
        "id": "rKWy2DfYVnI-",
        "colab_type": "code",
        "colab": {}
      },
      "source": [
        "def linear_transform_an2(N, n, mean, covVecs, covVals, pl):\n",
        "  '''\n",
        "  Input: N-samples, n-dimension, mu-mean vector, sig-covariance matrix\n",
        "  returns random samples generated according to priors, mu and sig\n",
        "  '''\n",
        "  \n",
        "  # number = np.zeros(4,) \n",
        "  \n",
        "  np.random.seed(2)\n",
        "  tempo = np.random.rand(1,N) # generating N random samples\n",
        "  pl_mod = np.cumsum(pl) # cumulative sum\n",
        "  pl_mod = np.insert(pl_mod, 0, 0) # pl_mod is now [0 0.1 0.3 0.5 1] and we take ranges between them for the three classes\n",
        "\n",
        "  x = np.zeros([n,N])\n",
        "  ls = []\n",
        "\n",
        "  for i in range(n+1):\n",
        "    if (i != 2):\n",
        "      number = np.where((tempo >= pl_mod[i]) & (tempo < pl_mod[i+1]))[1]\n",
        "      x[:,number] = (covVecs[i,:,:]@covVals**(0.5))@np.random.multivariate_normal([0,0], np.diag([1,1]), len(number)).T + mean[:,i].reshape(2,1)\n",
        "    else:\n",
        "      number = np.where((tempo >= pl_mod[i]) & (tempo <= pl_mod[i+1]))[1]\n",
        "      x[:,number] = (covVecs[i,:,:]@covVals**(0.5))@np.random.multivariate_normal([0,0], np.diag([1,1]), len(number)).T + mean[:,i].reshape(2,1)\n",
        "    ls.append(number)\n",
        "    \n",
        "  return (x,ls)"
      ],
      "execution_count": 0,
      "outputs": []
    },
    {
      "cell_type": "code",
      "metadata": {
        "id": "cdRwuI3ZTgF3",
        "colab_type": "code",
        "colab": {}
      },
      "source": [
        "n = 2\n",
        "Ntrain = 1000\n",
        "Ntest = 10000\n",
        "alpha = [0.33,0.34,0.33]\n",
        "meanVectors = np.array([[-18, 0, 18],[-8, 0, 8]])\n",
        "covEvalues = np.array([[3.2**2, 0],[0, 0.6**2]])\n",
        "covEvectors1 = np.array([[[1, -1],[1, 1]]])/np.sqrt(2)\n",
        "covEvectors2 = np.array([[[1, 0],[0, 1]]])\n",
        "covEvectors3 = np.array([[[1, -1],[1, 1]]])/np.sqrt(2)\n",
        "covEvectors = np.concatenate((covEvectors1, covEvectors2, covEvectors3), axis = 0)\n",
        "\n",
        "dat, cts = linear_transform_an2(Ntrain, n, meanVectors, covEvectors, covEvalues, alpha)\n",
        "dat_test, cts_test = linear_transform_an2(Ntest, n, meanVectors, covEvectors, covEvalues, alpha)"
      ],
      "execution_count": 0,
      "outputs": []
    },
    {
      "cell_type": "code",
      "metadata": {
        "id": "iwzDnsho38nk",
        "colab_type": "code",
        "outputId": "19cd1979-db4e-4383-e9ec-bebb1259d8f2",
        "colab": {
          "base_uri": "https://localhost:8080/",
          "height": 526
        }
      },
      "source": [
        "plt.axes([1,1,1.5,1.5])\n",
        "plt.scatter(dat[0,cts[0]], dat[1,cts[0]])\n",
        "plt.scatter(dat[0,cts[1]], dat[1,cts[1]])\n",
        "plt.scatter(dat[0,cts[2]], dat[1,cts[2]])\n",
        "plt.xlabel('X1')\n",
        "plt.ylabel('X2')\n",
        "plt.title('Generated Data')\n",
        "plt.legend(('Class1', 'Class2', 'Class3'))"
      ],
      "execution_count": 18,
      "outputs": [
        {
          "output_type": "execute_result",
          "data": {
            "text/plain": [
              "<matplotlib.legend.Legend at 0x7fb8b4d6deb8>"
            ]
          },
          "metadata": {
            "tags": []
          },
          "execution_count": 18
        },
        {
          "output_type": "display_data",
          "data": {
            "image/png": "[encoded data removed]",
            "text/plain": [
              "<Figure size 432x288 with 1 Axes>"
            ]
          },
          "metadata": {
            "tags": []
          }
        }
      ]
    },
    {
      "cell_type": "code",
      "metadata": {
        "id": "0HmMge8YW2Oh",
        "colab_type": "code",
        "colab": {}
      },
      "source": [
        "class myCallbacks(tf.keras.callbacks.Callback):\n",
        "    def on_epoch_end(self, epoch, logs = {}):\n",
        "        la = 3.3\n",
        "        if (logs.get('loss') < la):\n",
        "            print('\\nLoss less than {}. Hence, stopping'.format(la))\n",
        "            self.model.stop_training = True\n",
        "        \n",
        "# Create an instance of myCallbacks()\n",
        "callbacks = myCallbacks()"
      ],
      "execution_count": 0,
      "outputs": []
    },
    {
      "cell_type": "code",
      "metadata": {
        "id": "qtWmJQNk-65s",
        "colab_type": "code",
        "outputId": "bbe8c0c7-3e1f-483e-bf4a-82ea2dc584aa",
        "colab": {
          "base_uri": "https://localhost:8080/",
          "height": 3498
        }
      },
      "source": [
        "k = 10\n",
        "N = 1000\n",
        "main_ls_softplus = []\n",
        "models = []\n",
        "for nodes in range(5,51,5):\n",
        "  ls = []\n",
        "  model = tf.keras.models.Sequential([\n",
        "            tf.keras.layers.Input(shape=(1,)),\n",
        "            tf.keras.layers.Dense(nodes, activation = 'softplus'),\n",
        "            tf.keras.layers.Dense(1, activation = 'linear')\n",
        "    ])\n",
        "  model.compile(loss = 'mean_squared_error', optimizer = 'adam') #, metrics=['mean_squared_error'])\n",
        "  for fold in range(k):\n",
        "    val_data = dat[0,fold*(N//k):(fold+1)*(N//k)] # split data into val and train\n",
        "    y_val = dat[1,fold*(N//k):(fold+1)*(N//k)]\n",
        "    train_data = np.concatenate((dat[0,:fold*(N//k)], dat[0,(fold+1)*(N//k):]), axis = 0)\n",
        "    y_train = np.concatenate((dat[1,:fold*(N//k)], dat[1,(fold+1)*(N//k):]), axis = 0)\n",
        "\n",
        "    model.fit(train_data, y_train, epochs=200, batch_size = 100, verbose = 0) # callbacks = [callbacks], \n",
        "    ls.append(model.evaluate(val_data, y_val))\n",
        "    print('Done with {} folds'.format(fold+1))\n",
        "  print('Done with {} nodes'.format(nodes))\n",
        "  main_ls_softplus.append(np.mean(ls))"
      ],
      "execution_count": 20,
      "outputs": [
        {
          "output_type": "stream",
          "text": [
            "WARNING:tensorflow:From /usr/local/lib/python3.6/dist-packages/tensorflow_core/python/ops/resource_variable_ops.py:1630: calling BaseResourceVariable.__init__ (from tensorflow.python.ops.resource_variable_ops) with constraint is deprecated and will be removed in a future version.\n",
            "Instructions for updating:\n",
            "If using Keras pass *_constraint arguments to layers.\n",
            "100/100 [==============================] - 0s 242us/sample - loss: 2.0742\n",
            "Done with 1 folds\n",
            "100/100 [==============================] - 0s 102us/sample - loss: 1.2796\n",
            "Done with 2 folds\n",
            "100/100 [==============================] - 0s 58us/sample - loss: 0.8144\n",
            "Done with 3 folds\n",
            "100/100 [==============================] - 0s 60us/sample - loss: 0.8672\n",
            "Done with 4 folds\n",
            "100/100 [==============================] - 0s 93us/sample - loss: 0.7365\n",
            "Done with 5 folds\n",
            "100/100 [==============================] - 0s 109us/sample - loss: 0.5106\n",
            "Done with 6 folds\n",
            "100/100 [==============================] - 0s 86us/sample - loss: 0.7595\n",
            "Done with 7 folds\n",
            "100/100 [==============================] - 0s 74us/sample - loss: 0.4348\n",
            "Done with 8 folds\n",
            "100/100 [==============================] - 0s 87us/sample - loss: 0.8017\n",
            "Done with 9 folds\n",
            "100/100 [==============================] - 0s 95us/sample - loss: 0.6324\n",
            "Done with 10 folds\n",
            "Done with 5 nodes\n",
            "100/100 [==============================] - 0s 323us/sample - loss: 1.5879\n",
            "Done with 1 folds\n",
            "100/100 [==============================] - 0s 94us/sample - loss: 0.7620\n",
            "Done with 2 folds\n",
            "100/100 [==============================] - 0s 90us/sample - loss: 0.6069\n",
            "Done with 3 folds\n",
            "100/100 [==============================] - 0s 83us/sample - loss: 0.6327\n",
            "Done with 4 folds\n",
            "100/100 [==============================] - 0s 79us/sample - loss: 0.5198\n",
            "Done with 5 folds\n",
            "100/100 [==============================] - 0s 56us/sample - loss: 0.3991\n",
            "Done with 6 folds\n",
            "100/100 [==============================] - 0s 98us/sample - loss: 0.6452\n",
            "Done with 7 folds\n",
            "100/100 [==============================] - 0s 47us/sample - loss: 0.4424\n",
            "Done with 8 folds\n",
            "100/100 [==============================] - 0s 114us/sample - loss: 0.8082\n",
            "Done with 9 folds\n",
            "100/100 [==============================] - 0s 84us/sample - loss: 0.6409\n",
            "Done with 10 folds\n",
            "Done with 10 nodes\n",
            "100/100 [==============================] - 0s 432us/sample - loss: 2.0011\n",
            "Done with 1 folds\n",
            "100/100 [==============================] - 0s 105us/sample - loss: 0.9901\n",
            "Done with 2 folds\n",
            "100/100 [==============================] - 0s 79us/sample - loss: 0.6349\n",
            "Done with 3 folds\n",
            "100/100 [==============================] - 0s 87us/sample - loss: 0.6486\n",
            "Done with 4 folds\n",
            "100/100 [==============================] - 0s 52us/sample - loss: 0.5319\n",
            "Done with 5 folds\n",
            "100/100 [==============================] - 0s 53us/sample - loss: 0.4140\n",
            "Done with 6 folds\n",
            "100/100 [==============================] - 0s 107us/sample - loss: 0.6426\n",
            "Done with 7 folds\n",
            "100/100 [==============================] - 0s 66us/sample - loss: 0.4394\n",
            "Done with 8 folds\n",
            "100/100 [==============================] - 0s 108us/sample - loss: 0.8139\n",
            "Done with 9 folds\n",
            "100/100 [==============================] - 0s 47us/sample - loss: 0.6372\n",
            "Done with 10 folds\n",
            "Done with 15 nodes\n",
            "100/100 [==============================] - 0s 481us/sample - loss: 1.3441\n",
            "Done with 1 folds\n",
            "100/100 [==============================] - 0s 73us/sample - loss: 0.7045\n",
            "Done with 2 folds\n",
            "100/100 [==============================] - 0s 90us/sample - loss: 0.5810\n",
            "Done with 3 folds\n",
            "100/100 [==============================] - 0s 79us/sample - loss: 0.6216\n",
            "Done with 4 folds\n",
            "100/100 [==============================] - 0s 66us/sample - loss: 0.5263\n",
            "Done with 5 folds\n",
            "100/100 [==============================] - 0s 86us/sample - loss: 0.3910\n",
            "Done with 6 folds\n",
            "100/100 [==============================] - 0s 45us/sample - loss: 0.6326\n",
            "Done with 7 folds\n",
            "100/100 [==============================] - 0s 66us/sample - loss: 0.4442\n",
            "Done with 8 folds\n",
            "100/100 [==============================] - 0s 90us/sample - loss: 0.8137\n",
            "Done with 9 folds\n",
            "100/100 [==============================] - 0s 51us/sample - loss: 0.6382\n",
            "Done with 10 folds\n",
            "Done with 20 nodes\n",
            "100/100 [==============================] - 0s 615us/sample - loss: 1.9676\n",
            "Done with 1 folds\n",
            "100/100 [==============================] - 0s 54us/sample - loss: 0.8554\n",
            "Done with 2 folds\n",
            "100/100 [==============================] - 0s 105us/sample - loss: 0.6035\n",
            "Done with 3 folds\n",
            "100/100 [==============================] - 0s 84us/sample - loss: 0.6448\n",
            "Done with 4 folds\n",
            "100/100 [==============================] - 0s 53us/sample - loss: 0.5301\n",
            "Done with 5 folds\n",
            "100/100 [==============================] - 0s 68us/sample - loss: 0.4044\n",
            "Done with 6 folds\n",
            "100/100 [==============================] - 0s 49us/sample - loss: 0.6350\n",
            "Done with 7 folds\n",
            "100/100 [==============================] - 0s 141us/sample - loss: 0.4470\n",
            "Done with 8 folds\n",
            "100/100 [==============================] - 0s 52us/sample - loss: 0.8262\n",
            "Done with 9 folds\n",
            "100/100 [==============================] - 0s 77us/sample - loss: 0.6436\n",
            "Done with 10 folds\n",
            "Done with 25 nodes\n",
            "100/100 [==============================] - 0s 724us/sample - loss: 1.4095\n",
            "Done with 1 folds\n",
            "100/100 [==============================] - 0s 55us/sample - loss: 0.6480\n",
            "Done with 2 folds\n",
            "100/100 [==============================] - 0s 60us/sample - loss: 0.5841\n",
            "Done with 3 folds\n",
            "100/100 [==============================] - 0s 48us/sample - loss: 0.6047\n",
            "Done with 4 folds\n",
            "100/100 [==============================] - 0s 51us/sample - loss: 0.5249\n",
            "Done with 5 folds\n",
            "100/100 [==============================] - 0s 96us/sample - loss: 0.4087\n",
            "Done with 6 folds\n",
            "100/100 [==============================] - 0s 87us/sample - loss: 0.6403\n",
            "Done with 7 folds\n",
            "100/100 [==============================] - 0s 54us/sample - loss: 0.4467\n",
            "Done with 8 folds\n",
            "100/100 [==============================] - 0s 136us/sample - loss: 0.8182\n",
            "Done with 9 folds\n",
            "100/100 [==============================] - 0s 48us/sample - loss: 0.6449\n",
            "Done with 10 folds\n",
            "Done with 30 nodes\n",
            "100/100 [==============================] - 0s 865us/sample - loss: 1.7774\n",
            "Done with 1 folds\n",
            "100/100 [==============================] - 0s 104us/sample - loss: 0.6761\n",
            "Done with 2 folds\n",
            "100/100 [==============================] - 0s 96us/sample - loss: 0.5717\n",
            "Done with 3 folds\n",
            "100/100 [==============================] - 0s 60us/sample - loss: 0.6068\n",
            "Done with 4 folds\n",
            "100/100 [==============================] - 0s 99us/sample - loss: 0.5123\n",
            "Done with 5 folds\n",
            "100/100 [==============================] - 0s 118us/sample - loss: 0.3995\n",
            "Done with 6 folds\n",
            "100/100 [==============================] - 0s 88us/sample - loss: 0.6410\n",
            "Done with 7 folds\n",
            "100/100 [==============================] - 0s 90us/sample - loss: 0.4488\n",
            "Done with 8 folds\n",
            "100/100 [==============================] - 0s 67us/sample - loss: 0.8159\n",
            "Done with 9 folds\n",
            "100/100 [==============================] - 0s 85us/sample - loss: 0.6439\n",
            "Done with 10 folds\n",
            "Done with 35 nodes\n",
            "100/100 [==============================] - 0s 906us/sample - loss: 1.5001\n",
            "Done with 1 folds\n",
            "100/100 [==============================] - 0s 54us/sample - loss: 0.5840\n",
            "Done with 2 folds\n",
            "100/100 [==============================] - 0s 53us/sample - loss: 0.5722\n",
            "Done with 3 folds\n",
            "100/100 [==============================] - 0s 81us/sample - loss: 0.6096\n",
            "Done with 4 folds\n",
            "100/100 [==============================] - 0s 80us/sample - loss: 0.5210\n",
            "Done with 5 folds\n",
            "100/100 [==============================] - 0s 50us/sample - loss: 0.3993\n",
            "Done with 6 folds\n",
            "100/100 [==============================] - 0s 96us/sample - loss: 0.6435\n",
            "Done with 7 folds\n",
            "100/100 [==============================] - 0s 63us/sample - loss: 0.4485\n",
            "Done with 8 folds\n",
            "100/100 [==============================] - 0s 90us/sample - loss: 0.8213\n",
            "Done with 9 folds\n",
            "100/100 [==============================] - 0s 50us/sample - loss: 0.6326\n",
            "Done with 10 folds\n",
            "Done with 40 nodes\n",
            "100/100 [==============================] - 0s 1ms/sample - loss: 1.7364\n",
            "Done with 1 folds\n",
            "100/100 [==============================] - 0s 81us/sample - loss: 0.6951\n",
            "Done with 2 folds\n",
            "100/100 [==============================] - 0s 50us/sample - loss: 0.5690\n",
            "Done with 3 folds\n",
            "100/100 [==============================] - 0s 56us/sample - loss: 0.6070\n",
            "Done with 4 folds\n",
            "100/100 [==============================] - 0s 94us/sample - loss: 0.5200\n",
            "Done with 5 folds\n",
            "100/100 [==============================] - 0s 53us/sample - loss: 0.4043\n",
            "Done with 6 folds\n",
            "100/100 [==============================] - 0s 84us/sample - loss: 0.6409\n",
            "Done with 7 folds\n",
            "100/100 [==============================] - 0s 112us/sample - loss: 0.4443\n",
            "Done with 8 folds\n",
            "100/100 [==============================] - 0s 104us/sample - loss: 0.8195\n",
            "Done with 9 folds\n",
            "100/100 [==============================] - 0s 68us/sample - loss: 0.6453\n",
            "Done with 10 folds\n",
            "Done with 45 nodes\n",
            "100/100 [==============================] - 0s 1ms/sample - loss: 1.7413\n",
            "Done with 1 folds\n",
            "100/100 [==============================] - 0s 93us/sample - loss: 0.6799\n",
            "Done with 2 folds\n",
            "100/100 [==============================] - 0s 63us/sample - loss: 0.5781\n",
            "Done with 3 folds\n",
            "100/100 [==============================] - 0s 50us/sample - loss: 0.6062\n",
            "Done with 4 folds\n",
            "100/100 [==============================] - 0s 95us/sample - loss: 0.5255\n",
            "Done with 5 folds\n",
            "100/100 [==============================] - 0s 108us/sample - loss: 0.4037\n",
            "Done with 6 folds\n",
            "100/100 [==============================] - 0s 70us/sample - loss: 0.6631\n",
            "Done with 7 folds\n",
            "100/100 [==============================] - 0s 60us/sample - loss: 0.4401\n",
            "Done with 8 folds\n",
            "100/100 [==============================] - 0s 102us/sample - loss: 0.8579\n",
            "Done with 9 folds\n",
            "100/100 [==============================] - 0s 122us/sample - loss: 0.6342\n",
            "Done with 10 folds\n",
            "Done with 50 nodes\n"
          ],
          "name": "stdout"
        }
      ]
    },
    {
      "cell_type": "code",
      "metadata": {
        "id": "maNrwCG2GnFG",
        "colab_type": "code",
        "outputId": "c81dc04b-d589-4b1e-876b-eac8414365fe",
        "colab": {
          "base_uri": "https://localhost:8080/",
          "height": 180
        }
      },
      "source": [
        "main_ls_softplus"
      ],
      "execution_count": 21,
      "outputs": [
        {
          "output_type": "execute_result",
          "data": {
            "text/plain": [
              "[0.8910991053283215,\n",
              " 0.7045179740190506,\n",
              " 0.7753779034912587,\n",
              " 0.6697231776118278,\n",
              " 0.755750155866146,\n",
              " 0.6730026929080486,\n",
              " 0.7093541312813758,\n",
              " 0.6732109586596489,\n",
              " 0.7081767222881317,\n",
              " 0.7129802668988705]"
            ]
          },
          "metadata": {
            "tags": []
          },
          "execution_count": 21
        }
      ]
    },
    {
      "cell_type": "code",
      "metadata": {
        "id": "-tDmxwjmK33t",
        "colab_type": "code",
        "outputId": "56fff460-1cee-4f90-c52e-ede0c49e7d1c",
        "colab": {
          "base_uri": "https://localhost:8080/",
          "height": 3430
        }
      },
      "source": [
        "k = 10\n",
        "N = 1000\n",
        "main_ls_sigmoid = []\n",
        "models = []\n",
        "for nodes in range(5,51,5):\n",
        "  ls = []\n",
        "  model = tf.keras.models.Sequential([\n",
        "            tf.keras.layers.Input(shape=(1,)),\n",
        "            tf.keras.layers.Dense(nodes, activation = 'sigmoid'),\n",
        "            tf.keras.layers.Dense(1, activation = 'linear')\n",
        "    ])\n",
        "  # model.name = 'model_number_{}_nodes'.format(nodes)\n",
        "  model.compile(loss = 'mean_squared_error', optimizer = 'adam') #, metrics=['mean_squared_error'])\n",
        "  for fold in range(k):\n",
        "    val_data = dat[0,fold*(N//k):(fold+1)*(N//k)] # split data into val and train\n",
        "    y_val = dat[1,fold*(N//k):(fold+1)*(N//k)]\n",
        "    train_data = np.concatenate((dat[0,:fold*(N//k)], dat[0,(fold+1)*(N//k):]), axis = 0)\n",
        "    y_train = np.concatenate((dat[1,:fold*(N//k)], dat[1,(fold+1)*(N//k):]), axis = 0)\n",
        "\n",
        "    model.fit(train_data, y_train, epochs=200, batch_size = 100, verbose = 0) # callbacks = [callbacks], \n",
        "    ls.append(model.evaluate(val_data, y_val))\n",
        "    print('Done with {} folds'.format(fold+1))\n",
        "  print('Done with {} nodes'.format(nodes))\n",
        "  main_ls_sigmoid.append(np.mean(ls))"
      ],
      "execution_count": 22,
      "outputs": [
        {
          "output_type": "stream",
          "text": [
            "100/100 [==============================] - 0s 1ms/sample - loss: 11.8854\n",
            "Done with 1 folds\n",
            "100/100 [==============================] - 0s 92us/sample - loss: 4.4882\n",
            "Done with 2 folds\n",
            "100/100 [==============================] - 0s 100us/sample - loss: 1.6502\n",
            "Done with 3 folds\n",
            "100/100 [==============================] - 0s 111us/sample - loss: 1.1074\n",
            "Done with 4 folds\n",
            "100/100 [==============================] - 0s 110us/sample - loss: 0.7184\n",
            "Done with 5 folds\n",
            "100/100 [==============================] - 0s 103us/sample - loss: 0.5077\n",
            "Done with 6 folds\n",
            "100/100 [==============================] - 0s 90us/sample - loss: 0.7335\n",
            "Done with 7 folds\n",
            "100/100 [==============================] - 0s 89us/sample - loss: 0.5230\n",
            "Done with 8 folds\n",
            "100/100 [==============================] - 0s 104us/sample - loss: 0.8861\n",
            "Done with 9 folds\n",
            "100/100 [==============================] - 0s 104us/sample - loss: 0.7335\n",
            "Done with 10 folds\n",
            "Done with 5 nodes\n",
            "100/100 [==============================] - 0s 1ms/sample - loss: 5.7844\n",
            "Done with 1 folds\n",
            "100/100 [==============================] - 0s 104us/sample - loss: 2.7182\n",
            "Done with 2 folds\n",
            "100/100 [==============================] - 0s 101us/sample - loss: 1.2352\n",
            "Done with 3 folds\n",
            "100/100 [==============================] - 0s 116us/sample - loss: 0.9494\n",
            "Done with 4 folds\n",
            "100/100 [==============================] - 0s 56us/sample - loss: 0.6585\n",
            "Done with 5 folds\n",
            "100/100 [==============================] - 0s 66us/sample - loss: 0.4424\n",
            "Done with 6 folds\n",
            "100/100 [==============================] - 0s 55us/sample - loss: 0.6963\n",
            "Done with 7 folds\n",
            "100/100 [==============================] - 0s 99us/sample - loss: 0.4769\n",
            "Done with 8 folds\n",
            "100/100 [==============================] - 0s 82us/sample - loss: 0.8083\n",
            "Done with 9 folds\n",
            "100/100 [==============================] - 0s 95us/sample - loss: 0.6696\n",
            "Done with 10 folds\n",
            "Done with 10 nodes\n",
            "100/100 [==============================] - 0s 2ms/sample - loss: 5.0071\n",
            "Done with 1 folds\n",
            "100/100 [==============================] - 0s 103us/sample - loss: 2.7650\n",
            "Done with 2 folds\n",
            "100/100 [==============================] - 0s 93us/sample - loss: 1.4775\n",
            "Done with 3 folds\n",
            "100/100 [==============================] - 0s 98us/sample - loss: 1.2945\n",
            "Done with 4 folds\n",
            "100/100 [==============================] - 0s 104us/sample - loss: 0.9048\n",
            "Done with 5 folds\n",
            "100/100 [==============================] - 0s 99us/sample - loss: 0.6039\n",
            "Done with 6 folds\n",
            "100/100 [==============================] - 0s 88us/sample - loss: 0.7251\n",
            "Done with 7 folds\n",
            "100/100 [==============================] - 0s 194us/sample - loss: 0.5291\n",
            "Done with 8 folds\n",
            "100/100 [==============================] - 0s 54us/sample - loss: 0.8709\n",
            "Done with 9 folds\n",
            "100/100 [==============================] - 0s 98us/sample - loss: 0.7716\n",
            "Done with 10 folds\n",
            "Done with 15 nodes\n",
            "100/100 [==============================] - 0s 2ms/sample - loss: 4.0374\n",
            "Done with 1 folds\n",
            "100/100 [==============================] - 0s 87us/sample - loss: 2.5488\n",
            "Done with 2 folds\n",
            "100/100 [==============================] - 0s 92us/sample - loss: 1.5802\n",
            "Done with 3 folds\n",
            "100/100 [==============================] - 0s 97us/sample - loss: 1.5782\n",
            "Done with 4 folds\n",
            "100/100 [==============================] - 0s 91us/sample - loss: 1.2316\n",
            "Done with 5 folds\n",
            "100/100 [==============================] - 0s 113us/sample - loss: 0.7271\n",
            "Done with 6 folds\n",
            "100/100 [==============================] - 0s 99us/sample - loss: 0.7990\n",
            "Done with 7 folds\n",
            "100/100 [==============================] - 0s 75us/sample - loss: 0.5372\n",
            "Done with 8 folds\n",
            "100/100 [==============================] - 0s 107us/sample - loss: 0.9066\n",
            "Done with 9 folds\n",
            "100/100 [==============================] - 0s 115us/sample - loss: 0.7744\n",
            "Done with 10 folds\n",
            "Done with 20 nodes\n",
            "100/100 [==============================] - 0s 2ms/sample - loss: 3.8464\n",
            "Done with 1 folds\n",
            "100/100 [==============================] - 0s 57us/sample - loss: 2.5491\n",
            "Done with 2 folds\n",
            "100/100 [==============================] - 0s 109us/sample - loss: 1.7234\n",
            "Done with 3 folds\n",
            "100/100 [==============================] - 0s 91us/sample - loss: 2.0991\n",
            "Done with 4 folds\n",
            "100/100 [==============================] - 0s 92us/sample - loss: 2.1275\n",
            "Done with 5 folds\n",
            "100/100 [==============================] - 0s 103us/sample - loss: 1.8788\n",
            "Done with 6 folds\n",
            "100/100 [==============================] - 0s 108us/sample - loss: 1.6984\n",
            "Done with 7 folds\n",
            "100/100 [==============================] - 0s 100us/sample - loss: 1.0082\n",
            "Done with 8 folds\n",
            "100/100 [==============================] - 0s 104us/sample - loss: 1.5948\n",
            "Done with 9 folds\n",
            "100/100 [==============================] - 0s 106us/sample - loss: 1.1318\n",
            "Done with 10 folds\n",
            "Done with 25 nodes\n",
            "100/100 [==============================] - 0s 2ms/sample - loss: 3.5361\n",
            "Done with 1 folds\n",
            "100/100 [==============================] - 0s 98us/sample - loss: 2.4246\n",
            "Done with 2 folds\n",
            "100/100 [==============================] - 0s 105us/sample - loss: 1.6258\n",
            "Done with 3 folds\n",
            "100/100 [==============================] - 0s 106us/sample - loss: 1.8833\n",
            "Done with 4 folds\n",
            "100/100 [==============================] - 0s 99us/sample - loss: 1.7943\n",
            "Done with 5 folds\n",
            "100/100 [==============================] - 0s 89us/sample - loss: 1.3118\n",
            "Done with 6 folds\n",
            "100/100 [==============================] - 0s 56us/sample - loss: 1.3434\n",
            "Done with 7 folds\n",
            "100/100 [==============================] - 0s 116us/sample - loss: 0.7994\n",
            "Done with 8 folds\n",
            "100/100 [==============================] - 0s 80us/sample - loss: 1.1965\n",
            "Done with 9 folds\n",
            "100/100 [==============================] - 0s 68us/sample - loss: 0.9200\n",
            "Done with 10 folds\n",
            "Done with 30 nodes\n",
            "100/100 [==============================] - 0s 2ms/sample - loss: 3.4182\n",
            "Done with 1 folds\n",
            "100/100 [==============================] - 0s 166us/sample - loss: 2.3860\n",
            "Done with 2 folds\n",
            "100/100 [==============================] - 0s 107us/sample - loss: 1.6436\n",
            "Done with 3 folds\n",
            "100/100 [==============================] - 0s 91us/sample - loss: 1.9017\n",
            "Done with 4 folds\n",
            "100/100 [==============================] - 0s 81us/sample - loss: 1.8457\n",
            "Done with 5 folds\n",
            "100/100 [==============================] - 0s 103us/sample - loss: 1.4832\n",
            "Done with 6 folds\n",
            "100/100 [==============================] - 0s 58us/sample - loss: 1.3113\n",
            "Done with 7 folds\n",
            "100/100 [==============================] - 0s 68us/sample - loss: 0.7866\n",
            "Done with 8 folds\n",
            "100/100 [==============================] - 0s 103us/sample - loss: 1.3504\n",
            "Done with 9 folds\n",
            "100/100 [==============================] - 0s 105us/sample - loss: 1.0139\n",
            "Done with 10 folds\n",
            "Done with 35 nodes\n",
            "100/100 [==============================] - 0s 3ms/sample - loss: 3.3659\n",
            "Done with 1 folds\n",
            "100/100 [==============================] - 0s 95us/sample - loss: 2.3675\n",
            "Done with 2 folds\n",
            "100/100 [==============================] - 0s 103us/sample - loss: 1.5837\n",
            "Done with 3 folds\n",
            "100/100 [==============================] - 0s 73us/sample - loss: 1.8643\n",
            "Done with 4 folds\n",
            "100/100 [==============================] - 0s 104us/sample - loss: 1.7379\n",
            "Done with 5 folds\n",
            "100/100 [==============================] - 0s 66us/sample - loss: 1.0446\n",
            "Done with 6 folds\n",
            "100/100 [==============================] - 0s 108us/sample - loss: 0.9975\n",
            "Done with 7 folds\n",
            "100/100 [==============================] - 0s 67us/sample - loss: 0.5638\n",
            "Done with 8 folds\n",
            "100/100 [==============================] - 0s 123us/sample - loss: 0.8700\n",
            "Done with 9 folds\n",
            "100/100 [==============================] - 0s 107us/sample - loss: 0.7171\n",
            "Done with 10 folds\n",
            "Done with 40 nodes\n",
            "100/100 [==============================] - 0s 3ms/sample - loss: 3.1811\n",
            "Done with 1 folds\n",
            "100/100 [==============================] - 0s 97us/sample - loss: 2.3026\n",
            "Done with 2 folds\n",
            "100/100 [==============================] - 0s 115us/sample - loss: 1.6053\n",
            "Done with 3 folds\n",
            "100/100 [==============================] - 0s 117us/sample - loss: 1.9929\n",
            "Done with 4 folds\n",
            "100/100 [==============================] - 0s 94us/sample - loss: 2.0738\n",
            "Done with 5 folds\n",
            "100/100 [==============================] - 0s 76us/sample - loss: 1.9349\n",
            "Done with 6 folds\n",
            "100/100 [==============================] - 0s 53us/sample - loss: 2.0598\n",
            "Done with 7 folds\n",
            "100/100 [==============================] - 0s 105us/sample - loss: 1.6473\n",
            "Done with 8 folds\n",
            "100/100 [==============================] - 0s 114us/sample - loss: 2.8845\n",
            "Done with 9 folds\n",
            "100/100 [==============================] - 0s 109us/sample - loss: 2.4793\n",
            "Done with 10 folds\n",
            "Done with 45 nodes\n",
            "100/100 [==============================] - 0s 3ms/sample - loss: 3.1371\n",
            "Done with 1 folds\n",
            "100/100 [==============================] - 0s 91us/sample - loss: 2.2748\n",
            "Done with 2 folds\n",
            "100/100 [==============================] - 0s 94us/sample - loss: 1.6005\n",
            "Done with 3 folds\n",
            "100/100 [==============================] - 0s 123us/sample - loss: 1.9926\n",
            "Done with 4 folds\n",
            "100/100 [==============================] - 0s 72us/sample - loss: 2.0546\n",
            "Done with 5 folds\n",
            "100/100 [==============================] - 0s 96us/sample - loss: 1.9326\n",
            "Done with 6 folds\n",
            "100/100 [==============================] - 0s 122us/sample - loss: 2.0823\n",
            "Done with 7 folds\n",
            "100/100 [==============================] - 0s 100us/sample - loss: 1.6549\n",
            "Done with 8 folds\n",
            "100/100 [==============================] - 0s 75us/sample - loss: 2.8740\n",
            "Done with 9 folds\n",
            "100/100 [==============================] - 0s 88us/sample - loss: 2.4916\n",
            "Done with 10 folds\n",
            "Done with 50 nodes\n"
          ],
          "name": "stdout"
        }
      ]
    },
    {
      "cell_type": "code",
      "metadata": {
        "id": "eSoaDwi6Pt4I",
        "colab_type": "code",
        "outputId": "3fe83798-74ec-4680-aa8a-2f296ecaa7aa",
        "colab": {
          "base_uri": "https://localhost:8080/",
          "height": 180
        }
      },
      "source": [
        "main_ls_sigmoid"
      ],
      "execution_count": 23,
      "outputs": [
        {
          "output_type": "execute_result",
          "data": {
            "text/plain": [
              "[2.323359542787075,\n",
              " 1.4439177347421648,\n",
              " 1.4949545164108273,\n",
              " 1.4720656629800797,\n",
              " 1.9657467575073242,\n",
              " 1.683515845775604,\n",
              " 1.7140743198394777,\n",
              " 1.511216016292572,\n",
              " 2.216150550365448,\n",
              " 2.20950498354435]"
            ]
          },
          "metadata": {
            "tags": []
          },
          "execution_count": 23
        }
      ]
    },
    {
      "cell_type": "code",
      "metadata": {
        "id": "UhEu0hGoRyht",
        "colab_type": "code",
        "outputId": "b03f2b73-09fe-4c19-cb7b-f4dc547dbf3b",
        "colab": {
          "base_uri": "https://localhost:8080/",
          "height": 526
        }
      },
      "source": [
        "tem = np.min(main_ls_softplus+main_ls_sigmoid)\n",
        "tem_arg = np.argmin(main_ls_softplus+main_ls_sigmoid)\n",
        "if tem_arg > 10:\n",
        "  tem_arg = (abs(10-tem_arg)+1)*5\n",
        "  bst_activation = 'sigmoid'\n",
        "else:\n",
        "  tem_arg = (tem_arg+1)*5\n",
        "  bst_activation = 'softplus'\n",
        "\n",
        "plt.axes([1,1,1.5,1.5])\n",
        "plt.plot([i for i in range(5,51,5)], main_ls_softplus, 'o-')\n",
        "plt.plot([i for i in range(5,51,5)], main_ls_sigmoid, 'o-')\n",
        "plt.plot(tem_arg, tem, 'ro')\n",
        "plt.xlabel('Number of Neurons')\n",
        "plt.ylabel('Error')\n",
        "plt.title('Error vs Number of Neurons')\n",
        "plt.legend(('Softplus', 'Sigmoid', 'Min Error'))\n"
      ],
      "execution_count": 25,
      "outputs": [
        {
          "output_type": "execute_result",
          "data": {
            "text/plain": [
              "<matplotlib.legend.Legend at 0x7fb8ad28a4a8>"
            ]
          },
          "metadata": {
            "tags": []
          },
          "execution_count": 25
        },
        {
          "output_type": "display_data",
          "data": {
            "image/png": "[encoded data removed]",
            "text/plain": [
              "<Figure size 432x288 with 1 Axes>"
            ]
          },
          "metadata": {
            "tags": []
          }
        }
      ]
    },
    {
      "cell_type": "code",
      "metadata": {
        "id": "TF4M69WzBcPz",
        "colab_type": "code",
        "colab": {}
      },
      "source": [
        ""
      ],
      "execution_count": 0,
      "outputs": []
    },
    {
      "cell_type": "code",
      "metadata": {
        "colab_type": "code",
        "outputId": "ef81cdb6-bb6f-475b-8cec-0bcda0fce4bf",
        "id": "PzemrJ0pR35m",
        "colab": {
          "base_uri": "https://localhost:8080/",
          "height": 33
        }
      },
      "source": [
        "model_new = tf.keras.models.Sequential([\n",
        "            tf.keras.layers.Input(shape=(1,)),\n",
        "            tf.keras.layers.Dense(tem_arg, activation = bst_activation),\n",
        "            tf.keras.layers.Dense(1, activation = 'linear')\n",
        "    ])\n",
        "\n",
        "model_new.compile(loss = 'mean_squared_error', optimizer = 'adam')\n",
        "model_new.fit(dat[0,:], dat[1,:], epochs=100, batch_size = 100, verbose = 0)"
      ],
      "execution_count": 28,
      "outputs": [
        {
          "output_type": "execute_result",
          "data": {
            "text/plain": [
              "<tensorflow.python.keras.callbacks.History at 0x7fb8ad23d710>"
            ]
          },
          "metadata": {
            "tags": []
          },
          "execution_count": 28
        }
      ]
    },
    {
      "cell_type": "code",
      "metadata": {
        "colab_type": "code",
        "outputId": "622cf293-0eae-4138-98b5-dc7ee3fbfa79",
        "id": "ummWWjoQR35q",
        "colab": {
          "base_uri": "https://localhost:8080/",
          "height": 180
        }
      },
      "source": [
        "test = model_new.predict(dat_test[0,:])\n",
        "test[:10]"
      ],
      "execution_count": 29,
      "outputs": [
        {
          "output_type": "execute_result",
          "data": {
            "text/plain": [
              "array([[-0.09196599],\n",
              "       [-7.960955  ],\n",
              "       [ 0.12346311],\n",
              "       [-0.32065314],\n",
              "       [-0.02102913],\n",
              "       [ 0.6946389 ],\n",
              "       [-8.681036  ],\n",
              "       [-1.6002225 ],\n",
              "       [-9.405164  ],\n",
              "       [-8.567359  ]], dtype=float32)"
            ]
          },
          "metadata": {
            "tags": []
          },
          "execution_count": 29
        }
      ]
    },
    {
      "cell_type": "code",
      "metadata": {
        "colab_type": "code",
        "outputId": "d05dc33c-c789-4ecd-d48c-4342a0dc65dc",
        "id": "0w741ZkER35r",
        "colab": {
          "base_uri": "https://localhost:8080/",
          "height": 50
        }
      },
      "source": [
        "dat_test[1,:10]"
      ],
      "execution_count": 30,
      "outputs": [
        {
          "output_type": "execute_result",
          "data": {
            "text/plain": [
              "array([ 0.47930436, -7.71971203,  0.99409842,  0.52693602,  0.19620978,\n",
              "        0.53684614, -9.77273888, -0.61058423, -9.84826871, -7.06712676])"
            ]
          },
          "metadata": {
            "tags": []
          },
          "execution_count": 30
        }
      ]
    },
    {
      "cell_type": "code",
      "metadata": {
        "colab_type": "code",
        "outputId": "6bf8b244-c5c5-41e8-e434-cb30ce7485e3",
        "id": "bYP-Wa_OR35t",
        "colab": {
          "base_uri": "https://localhost:8080/",
          "height": 33
        }
      },
      "source": [
        "np.mean((test.T - dat_test[1,:])**2)"
      ],
      "execution_count": 36,
      "outputs": [
        {
          "output_type": "execute_result",
          "data": {
            "text/plain": [
              "1.8696147886568268"
            ]
          },
          "metadata": {
            "tags": []
          },
          "execution_count": 36
        }
      ]
    },
    {
      "cell_type": "code",
      "metadata": {
        "id": "ABwVOpqso6sG",
        "colab_type": "code",
        "colab": {
          "base_uri": "https://localhost:8080/",
          "height": 670
        },
        "outputId": "e97315c5-ec08-4cff-8d53-4a23398dba28"
      },
      "source": [
        "plt.axes([1,1,2,2])\n",
        "plt.scatter(dat_test[0,:], dat_test[1,:])\n",
        "plt.scatter(dat_test[0,:], test)\n",
        "plt.xlabel('X1')\n",
        "plt.ylabel('X2')\n",
        "plt.title('Data')\n",
        "plt.legend(('True Data', 'Predicted Data'))"
      ],
      "execution_count": 47,
      "outputs": [
        {
          "output_type": "execute_result",
          "data": {
            "text/plain": [
              "<matplotlib.legend.Legend at 0x7fb8a2afabe0>"
            ]
          },
          "metadata": {
            "tags": []
          },
          "execution_count": 47
        },
        {
          "output_type": "display_data",
          "data": {
            "image/png": "[encoded data removed]",
            "text/plain": [
              "<Figure size 432x288 with 1 Axes>"
            ]
          },
          "metadata": {
            "tags": []
          }
        }
      ]
    },
    {
      "cell_type": "code",
      "metadata": {
        "id": "Bsv9heFJ0byp",
        "colab_type": "code",
        "colab": {}
      },
      "source": [
        ""
      ],
      "execution_count": 0,
      "outputs": []
    }
  ]
}